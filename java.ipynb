{
  "nbformat": 4,
  "nbformat_minor": 0,
  "metadata": {
    "colab": {
      "provenance": [],
      "authorship_tag": "ABX9TyPHL2BcANao3RCuC6K1cBnn",
      "include_colab_link": true
    },
    "kernelspec": {
      "name": "python3",
      "display_name": "Python 3"
    },
    "language_info": {
      "name": "python"
    }
  },
  "cells": [
    {
      "cell_type": "markdown",
      "metadata": {
        "id": "view-in-github",
        "colab_type": "text"
      },
      "source": [
        "<a href=\"https://colab.research.google.com/github/viett887g/baitapjava/blob/main/java.ipynb\" target=\"_parent\"><img src=\"https://colab.research.google.com/assets/colab-badge.svg\" alt=\"Open In Colab\"/></a>"
      ]
    },
    {
      "cell_type": "code",
      "execution_count": 1,
      "metadata": {
        "id": "YhlYVQy0v86u"
      },
      "outputs": [],
      "source": [
        "import random as rd\n"
      ]
    },
    {
      "cell_type": "code",
      "source": [
        "def san_sinh_mang(n):\n",
        "  mang=[]\n",
        "  for i in range(n):\n",
        "    so_ngau_nhien= rd.randint(-100,100)\n",
        "    mang.append(so_ngau_nhien)\n",
        "  return mang"
      ],
      "metadata": {
        "id": "L3hEMSA3wC8o"
      },
      "execution_count": 15,
      "outputs": []
    },
    {
      "cell_type": "code",
      "source": [
        "def tim_kiem(mang,x):\n",
        "  n=len(mang)\n",
        "  for i in range(n):\n",
        "    if mang[i]==x:\n",
        "      return i\n",
        "  return -1\n",
        "  "
      ],
      "metadata": {
        "id": "tMKwvDvpwaSm"
      },
      "execution_count": 16,
      "outputs": []
    },
    {
      "cell_type": "code",
      "source": [
        "def main():\n",
        "  mang=san_sinh_mang(100)\n",
        "  print(mang)\n",
        "  mang.sort()\n",
        "  print(\"mang da duoc sap xep\",mang)\n",
        "  x= int(input(\"ban muon tim kiem so bao nhieu\"))\n",
        "  vi_tri= tim_kiem(mang,x)\n",
        "  if vi_tri != -1:\n",
        "    print(x,\"duoc tim thay o vi tri: \" , vi_tri)\n",
        "  else :\n",
        "    print(x,\"khong xuat hien trong mang hay nhap so khac\")\n",
        "if __name__==\"__main__\":\n",
        "  main()"
      ],
      "metadata": {
        "colab": {
          "base_uri": "https://localhost:8080/"
        },
        "id": "Bk6ypK5Iw6xJ",
        "outputId": "17bdcde2-55f1-4745-a191-8ded30bc1a3c"
      },
      "execution_count": 19,
      "outputs": [
        {
          "output_type": "stream",
          "name": "stdout",
          "text": [
            "[99, -36, -26, -92, -17, 50, 3, 49, -86, 97, -20, -90, 77, 9, 31, 48, 20, -92, 25, 56, 51, -18, 47, 72, -41, -80, -17, -62, -12, -47, -98, -6, 66, -19, -63, -7, -77, -50, 30, 66, 84, -47, -2, 69, 100, 85, -92, -76, -71, -51, 96, -42, 9, -27, -35, -67, -39, 43, -49, 57, -29, 0, -93, 78, -83, -72, -31, 55, 71, 58, 9, 59, -31, -21, -88, -99, 33, 54, 16, -44, 84, -45, -74, -61, -40, -52, -19, -83, -66, -50, -70, 61, -26, -56, 62, 89, -48, -90, 1, -63]\n",
            "mang da duoc sap xep [-99, -98, -93, -92, -92, -92, -90, -90, -88, -86, -83, -83, -80, -77, -76, -74, -72, -71, -70, -67, -66, -63, -63, -62, -61, -56, -52, -51, -50, -50, -49, -48, -47, -47, -45, -44, -42, -41, -40, -39, -36, -35, -31, -31, -29, -27, -26, -26, -21, -20, -19, -19, -18, -17, -17, -12, -7, -6, -2, 0, 1, 3, 9, 9, 9, 16, 20, 25, 30, 31, 33, 43, 47, 48, 49, 50, 51, 54, 55, 56, 57, 58, 59, 61, 62, 66, 66, 69, 71, 72, 77, 78, 84, 84, 85, 89, 96, 97, 99, 100]\n",
            "ban muon tim kiem so bao nhieu3\n",
            "3 duoc tim thay o vi tri:  61\n"
          ]
        }
      ]
    }
  ]
}