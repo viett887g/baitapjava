{
  "nbformat": 4,
  "nbformat_minor": 0,
  "metadata": {
    "colab": {
      "provenance": [],
      "authorship_tag": "ABX9TyPxe84iRMSL9zeON7KsrrFp",
      "include_colab_link": true
    },
    "kernelspec": {
      "name": "python3",
      "display_name": "Python 3"
    },
    "language_info": {
      "name": "python"
    }
  },
  "cells": [
    {
      "cell_type": "markdown",
      "metadata": {
        "id": "view-in-github",
        "colab_type": "text"
      },
      "source": [
        "<a href=\"https://colab.research.google.com/github/viett887g/baitapjava/blob/main/Untitled29.ipynb\" target=\"_parent\"><img src=\"https://colab.research.google.com/assets/colab-badge.svg\" alt=\"Open In Colab\"/></a>"
      ]
    },
    {
      "cell_type": "code",
      "execution_count": 1,
      "metadata": {
        "id": "YhlYVQy0v86u"
      },
      "outputs": [],
      "source": [
        "import random as rd\n"
      ]
    },
    {
      "cell_type": "code",
      "source": [
        "def san_sinh_mang(n):\n",
        "  mang=[]\n",
        "  for i in range(n):\n",
        "    so_ngau_nhien= rd.randint(-100,100)\n",
        "    mang.append(so_ngau_nhien)\n",
        "    mang.sort()\n",
        "  return mang"
      ],
      "metadata": {
        "id": "L3hEMSA3wC8o"
      },
      "execution_count": 8,
      "outputs": []
    },
    {
      "cell_type": "code",
      "source": [
        "def tim_kiem(mang,x):\n",
        "  n=len(mang)\n",
        "  for i in range(n):\n",
        "    if mang[i]==x:\n",
        "      return i\n",
        "  return -1\n",
        "  "
      ],
      "metadata": {
        "id": "tMKwvDvpwaSm"
      },
      "execution_count": 10,
      "outputs": []
    },
    {
      "cell_type": "code",
      "source": [
        "def main():\n",
        "  mang=san_sinh_mang(100)\n",
        "  print(mang)\n",
        "  x= int(input(\"ban muon tim kiem so bao nhieu\"))\n",
        "  vi_tri= tim_kiem(mang,x)\n",
        "  if vi_tri != 1:\n",
        "    print(x,\"duoc tim thay o vi tri: \" , vi_tri)\n",
        "  else :\n",
        "    print(x,\"khong xuat hien trong mang hay nhap so khac\")\n",
        "if __name__==\"__main__\":\n",
        "  main()"
      ],
      "metadata": {
        "colab": {
          "base_uri": "https://localhost:8080/"
        },
        "id": "Bk6ypK5Iw6xJ",
        "outputId": "33d05617-6234-4f0c-a6c3-02794606d957"
      },
      "execution_count": 13,
      "outputs": [
        {
          "output_type": "stream",
          "name": "stdout",
          "text": [
            "[-98, -96, -92, -89, -88, -88, -87, -84, -83, -82, -82, -79, -76, -75, -65, -64, -64, -59, -59, -52, -50, -44, -43, -40, -39, -35, -34, -33, -33, -33, -32, -31, -31, -30, -28, -26, -25, -24, -23, -21, -15, -14, -14, -11, -11, -6, -2, -2, 7, 7, 8, 9, 11, 14, 17, 20, 21, 22, 27, 27, 27, 31, 34, 34, 35, 36, 38, 38, 44, 45, 48, 49, 52, 53, 53, 53, 59, 59, 63, 65, 66, 67, 68, 73, 74, 74, 74, 75, 78, 78, 81, 81, 83, 85, 86, 88, 88, 91, 92, 99]\n",
            "ban muon tim kiem so bao nhieu80\n",
            "80 duoc tim thay o vi tri:  -1\n"
          ]
        }
      ]
    }
  ]
}